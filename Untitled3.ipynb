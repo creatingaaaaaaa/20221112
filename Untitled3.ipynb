{
  "nbformat": 4,
  "nbformat_minor": 0,
  "metadata": {
    "colab": {
      "provenance": [],
      "authorship_tag": "ABX9TyNf3+EDLbiZvy/F0vCjg19W",
      "include_colab_link": true
    },
    "kernelspec": {
      "name": "python3",
      "display_name": "Python 3"
    },
    "language_info": {
      "name": "python"
    }
  },
  "cells": [
    {
      "cell_type": "markdown",
      "metadata": {
        "id": "view-in-github",
        "colab_type": "text"
      },
      "source": [
        "<a href=\"https://colab.research.google.com/github/creatingaaaaaaa/20221112/blob/main/Untitled3.ipynb\" target=\"_parent\"><img src=\"https://colab.research.google.com/assets/colab-badge.svg\" alt=\"Open In Colab\"/></a>"
      ]
    },
    {
      "cell_type": "code",
      "execution_count": 2,
      "metadata": {
        "colab": {
          "base_uri": "https://localhost:8080/"
        },
        "id": "vlZsXC0OXo1D",
        "outputId": "456574ef-17d1-42e4-f988-1c818ec01d0d"
      },
      "outputs": [
        {
          "output_type": "stream",
          "name": "stdout",
          "text": [
            "2 4 6 8 10 12 14 16 18 20 22 24 26 28 30 32 34 36 38 40 42 44 46 48 50 52 54 56 58 60 62 64 66 68 70 72 74 76 78 80 82 84 86 88 90 92 94 96 98 100 "
          ]
        }
      ],
      "source": [
        "for i in range(2, 101):\n",
        " if i%2==0 :\n",
        "  print(i,end = \" \")"
      ]
    },
    {
      "cell_type": "code",
      "source": [
        "year = 0\n",
        "balance = 1000\n",
        "\n",
        "while balance <= 2000 :\n",
        "      year = year + 1\n",
        "      interest = balance * 0.07\n",
        "      balance = balance + interest\n",
        "print(year, \"년이 걸립니다.\")"
      ],
      "metadata": {
        "colab": {
          "base_uri": "https://localhost:8080/"
        },
        "id": "5JP1T2zGYHMU",
        "outputId": "c8bd318a-cca6-498d-883a-c08bfd2187fe"
      },
      "execution_count": 4,
      "outputs": [
        {
          "output_type": "stream",
          "name": "stdout",
          "text": [
            "11 년이 걸립니다.\n"
          ]
        }
      ]
    },
    {
      "cell_type": "code",
      "source": [
        "n = 1234\n",
        "sum = 0\n",
        "while n > 0 :\n",
        "    digit = n % 10\n",
        "    sum = sum + digit\n",
        "    n = n // 10\n",
        "print(sum)"
      ],
      "metadata": {
        "colab": {
          "base_uri": "https://localhost:8080/"
        },
        "id": "KSh6CD4VYHEH",
        "outputId": "5dd30a52-2fba-4181-8398-63097ab5b1e5"
      },
      "execution_count": 5,
      "outputs": [
        {
          "output_type": "stream",
          "name": "stdout",
          "text": [
            "10\n"
          ]
        }
      ]
    },
    {
      "cell_type": "code",
      "source": [
        "ans = 0\n",
        "while ans != 3*9:\n",
        " ans = int(input(\"3*9는\"))\n",
        "print(\"맞았습니다.\")"
      ],
      "metadata": {
        "colab": {
          "base_uri": "https://localhost:8080/"
        },
        "id": "34lEaivWYk7F",
        "outputId": "3d8448d4-efe5-40a1-bc05-608fb6cd9c71"
      },
      "execution_count": 6,
      "outputs": [
        {
          "output_type": "stream",
          "name": "stdout",
          "text": [
            "3*9는27\n",
            "맞았습니다.\n"
          ]
        }
      ]
    },
    {
      "cell_type": "code",
      "source": [
        "sum = 0\n",
        "while True:\n",
        "  x = int(input(\"정수를 입력하시오: \"))\n",
        "  if x == 0:\n",
        "   break;\n",
        "  sum = sum + x\n",
        "print(\"합은 \", sum, \"입니다.\")"
      ],
      "metadata": {
        "colab": {
          "base_uri": "https://localhost:8080/"
        },
        "id": "bEANZeD7YnJ_",
        "outputId": "3ac38cc9-2290-491f-8746-8d32224a2196"
      },
      "execution_count": 7,
      "outputs": [
        {
          "output_type": "stream",
          "name": "stdout",
          "text": [
            "정수를 입력하시오: 1\n",
            "정수를 입력하시오: 2\n",
            "정수를 입력하시오: 3\n",
            "정수를 입력하시오: 0\n",
            "합은  6 입니다.\n"
          ]
        }
      ]
    },
    {
      "cell_type": "markdown",
      "source": [],
      "metadata": {
        "id": "pzVKFZrsacOu"
      }
    },
    {
      "cell_type": "markdown",
      "source": [],
      "metadata": {
        "id": "IKig5S7iacPr"
      }
    },
    {
      "cell_type": "code",
      "source": [],
      "metadata": {
        "id": "ICy5wB_saco4"
      },
      "execution_count": null,
      "outputs": []
    },
    {
      "cell_type": "code",
      "source": [
        "from random import randint\n",
        "for i in range(3) :\n",
        " d1 = randint(1, 6)\n",
        " d2 = randint(1, 6)\n",
        " print(\"첫번째 주사위=\", d1, \"두번째 주사위=\", d2)"
      ],
      "metadata": {
        "colab": {
          "base_uri": "https://localhost:8080/"
        },
        "id": "633FbfX6YsWJ",
        "outputId": "14187907-7ca6-40b8-9810-bc0ad99539e1"
      },
      "execution_count": 8,
      "outputs": [
        {
          "output_type": "stream",
          "name": "stdout",
          "text": [
            "첫번째 주사위= 5 두번째 주사위= 5\n",
            "첫번째 주사위= 5 두번째 주사위= 3\n",
            "첫번째 주사위= 2 두번째 주사위= 4\n"
          ]
        }
      ]
    },
    {
      "cell_type": "code",
      "source": [
        "import turtle\n",
        "t = turtle.Turtle()\n",
        "t.shape(\"turtle\")\n",
        "t.left(90)\n",
        "for i in range (1,7):\n",
        "  t.forward(100)\n",
        "  t.forward(-30)\n",
        "  t.left(60)\n",
        "  t.forward(30)\n",
        "  t.forward(-30)\n",
        "  t.right(120)\n",
        "  t.forward(30)\n",
        "  t.forward(-30)\n",
        "  t.left(60)\n",
        "  t.forward(-70)\n",
        "  t.left(60)"
      ],
      "metadata": {
        "id": "FYDwnN9bYu9I"
      },
      "execution_count": null,
      "outputs": []
    },
    {
      "cell_type": "code",
      "source": [
        "import turtle\n",
        "myPen = turtle.Turtle()\n",
        "myPen.speed(0)\n",
        "myPen.color(\"#FF0000\")\n",
        "for j in range (1,10):\n",
        "  for i in range (1,6):\n",
        "    myPen.left(144)\n",
        "    myPen.forward(200)\n",
        "  myPen.left(10)"
      ],
      "metadata": {
        "id": "oHeebyBHaIr3"
      },
      "execution_count": null,
      "outputs": []
    },
    {
      "cell_type": "code",
      "source": [
        "import turtle\n",
        "import random\n",
        "t = turtle.Turtle()\n",
        "t.shape(\"turtle\")\n",
        "for j in range (1,10):\n",
        "  t.up()\n",
        "  x = random.randint(-200, 200)\n",
        "  y = random.randint(-200, 200)\n",
        "  r = random.randint(10, 200)\n",
        "  t.goto(x, y)\n",
        "  t.down()\n",
        "  t.circle(r)"
      ],
      "metadata": {
        "id": "xxqwEuyVaVoJ"
      },
      "execution_count": null,
      "outputs": []
    },
    {
      "cell_type": "code",
      "source": [
        "import turtle\n",
        "t = turtle.Turtle()\n",
        "t.shape(\"turtle\")\n",
        "for i in range(5):\n",
        "  t.forward(200);\n",
        "  t.right(90)\n",
        "  t.forward(20);\n",
        "  t.right(90)\n",
        "  t.forward(200);\n",
        "  t.left(90)\n",
        "  t.forward(20);\n",
        "  t.left(90)"
      ],
      "metadata": {
        "id": "d7gY9QqQaXae"
      },
      "execution_count": null,
      "outputs": []
    },
    {
      "cell_type": "code",
      "source": [
        "import turtle\n",
        "t = turtle.Turtle()\n",
        "t.shape(\"turtle\")\n",
        "t.color('red', 'yellow')\n",
        "t.begin_fill()\n",
        "while True:\n",
        "  t.forward(200)\n",
        "  t.left(170)\n",
        "  if abs(t.pos()) < 1:\n",
        "    break\n",
        "t.end_fill()"
      ],
      "metadata": {
        "id": "CtVLyvpQaZbO"
      },
      "execution_count": null,
      "outputs": []
    },
    {
      "cell_type": "code",
      "source": [
        "import turtle\n",
        "import math\n",
        "t= turtle.Turtle()\n",
        "t.shape(\"turtle\")\n",
        "t.color('red', 'yellow')\n",
        "for x in range(0, 360):\n",
        " t.goto(x,200*math.sin(x*3.14/180))"
      ],
      "metadata": {
        "id": "vZ2ur8LgabHm"
      },
      "execution_count": null,
      "outputs": []
    }
  ]
}